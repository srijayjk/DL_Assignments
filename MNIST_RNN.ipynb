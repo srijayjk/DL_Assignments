{
  "nbformat": 4,
  "nbformat_minor": 0,
  "metadata": {
    "colab": {
      "name": "MNIST_RNN.ipynb",
      "provenance": [],
      "authorship_tag": "ABX9TyO/l6jtG2uRlbjOFgAQHhGj",
      "include_colab_link": true
    },
    "kernelspec": {
      "name": "python3",
      "display_name": "Python 3"
    }
  },
  "cells": [
    {
      "cell_type": "markdown",
      "metadata": {
        "id": "view-in-github",
        "colab_type": "text"
      },
      "source": [
        "<a href=\"https://colab.research.google.com/github/srijayjk/Deep-Learning/blob/master/MNIST_RNN.ipynb\" target=\"_parent\"><img src=\"https://colab.research.google.com/assets/colab-badge.svg\" alt=\"Open In Colab\"/></a>"
      ]
    },
    {
      "cell_type": "code",
      "metadata": {
        "id": "XR0mJvK42GuA"
      },
      "source": [
        "import tensorflow as tf\n",
        "from tensorflow import keras\n",
        "from tensorflow.keras import layers\n",
        "from tensorflow.keras.datasets import mnist"
      ],
      "execution_count": 1,
      "outputs": []
    },
    {
      "cell_type": "code",
      "metadata": {
        "colab": {
          "base_uri": "https://localhost:8080/"
        },
        "id": "_JRZvevW2qmL",
        "outputId": "2e1e8a8b-1575-4d39-d8c8-aa657480cd50"
      },
      "source": [
        "(x_train, y_train), (x_test, y_test) = mnist.load_data()\n",
        "x_train = x_train.astype(\"float32\") / 255.0\n",
        "x_test = x_test.astype(\"float32\") / 255.0\n"
      ],
      "execution_count": 3,
      "outputs": [
        {
          "output_type": "stream",
          "text": [
            "Downloading data from https://storage.googleapis.com/tensorflow/tf-keras-datasets/mnist.npz\n",
            "11493376/11490434 [==============================] - 0s 0us/step\n"
          ],
          "name": "stdout"
        }
      ]
    },
    {
      "cell_type": "code",
      "metadata": {
        "colab": {
          "base_uri": "https://localhost:8080/"
        },
        "id": "WJcSvnI53QsF",
        "outputId": "9ce0b09b-0ffd-4988-ad01-fda07cc1687a"
      },
      "source": [
        "model = keras.Sequential()\n",
        "model.add(keras.layers.SimpleRNN(80, input_shape=(None, 28), activation='tanh', return_sequences=True))\n",
        "model.add(keras.layers.SimpleRNN(80, activation='tanh'))\n",
        "model.add(keras.layers.Dense(10, activation='sigmoid'))\n",
        "model.summary()"
      ],
      "execution_count": 13,
      "outputs": [
        {
          "output_type": "stream",
          "text": [
            "Model: \"sequential_1\"\n",
            "_________________________________________________________________\n",
            "Layer (type)                 Output Shape              Param #   \n",
            "=================================================================\n",
            "simple_rnn_15 (SimpleRNN)    (None, None, 80)          8720      \n",
            "_________________________________________________________________\n",
            "simple_rnn_16 (SimpleRNN)    (None, 80)                12880     \n",
            "_________________________________________________________________\n",
            "dense_3 (Dense)              (None, 10)                810       \n",
            "=================================================================\n",
            "Total params: 22,410\n",
            "Trainable params: 22,410\n",
            "Non-trainable params: 0\n",
            "_________________________________________________________________\n"
          ],
          "name": "stdout"
        }
      ]
    },
    {
      "cell_type": "code",
      "metadata": {
        "colab": {
          "base_uri": "https://localhost:8080/"
        },
        "id": "q0DHpaR1504p",
        "outputId": "00f0f809-4b89-4c06-aaf3-766673635cfa"
      },
      "source": [
        "model.compile(optimizer='adam', loss='mae', metrics=['accuracy'])\n",
        "model.fit(x_train, y_train, batch_size=128, epochs=5, validation_data=(x_test, y_test))"
      ],
      "execution_count": 16,
      "outputs": [
        {
          "output_type": "stream",
          "text": [
            "Epoch 1/5\n",
            "469/469 [==============================] - 14s 30ms/step - loss: 3.6588 - accuracy: 0.1041 - val_loss: 3.6397 - val_accuracy: 0.1033\n",
            "Epoch 2/5\n",
            "469/469 [==============================] - 13s 27ms/step - loss: 3.6516 - accuracy: 0.0994 - val_loss: 3.6395 - val_accuracy: 0.1032\n",
            "Epoch 3/5\n",
            "469/469 [==============================] - 13s 27ms/step - loss: 3.6515 - accuracy: 0.0993 - val_loss: 3.6395 - val_accuracy: 0.1032\n",
            "Epoch 4/5\n",
            "469/469 [==============================] - 13s 27ms/step - loss: 3.6514 - accuracy: 0.0993 - val_loss: 3.6394 - val_accuracy: 0.1032\n",
            "Epoch 5/5\n",
            "469/469 [==============================] - 13s 27ms/step - loss: 3.6514 - accuracy: 0.0991 - val_loss: 3.6394 - val_accuracy: 0.0983\n"
          ],
          "name": "stdout"
        },
        {
          "output_type": "execute_result",
          "data": {
            "text/plain": [
              "<tensorflow.python.keras.callbacks.History at 0x7fdd61cf0eb8>"
            ]
          },
          "metadata": {
            "tags": []
          },
          "execution_count": 16
        }
      ]
    }
  ]
}