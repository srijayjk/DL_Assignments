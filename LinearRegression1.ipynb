{
  "nbformat": 4,
  "nbformat_minor": 0,
  "metadata": {
    "colab": {
      "name": "LinearRegression1.ipynb",
      "provenance": [],
      "collapsed_sections": [],
      "toc_visible": true,
      "authorship_tag": "ABX9TyOGQqi3agjYxE3ZYEUK6DNY",
      "include_colab_link": true
    },
    "kernelspec": {
      "name": "python3",
      "display_name": "Python 3"
    },
    "accelerator": "GPU"
  },
  "cells": [
    {
      "cell_type": "markdown",
      "metadata": {
        "id": "view-in-github",
        "colab_type": "text"
      },
      "source": [
        "<a href=\"https://colab.research.google.com/github/lezya/Deep-Learning/blob/master/LinearRegression1.ipynb\" target=\"_parent\"><img src=\"https://colab.research.google.com/assets/colab-badge.svg\" alt=\"Open In Colab\"/></a>"
      ]
    },
    {
      "cell_type": "code",
      "metadata": {
        "id": "HvYZ26pemnRy",
        "colab_type": "code",
        "outputId": "ba5ae298-2785-4e71-ae04-1a87a299b46f",
        "colab": {
          "base_uri": "https://localhost:8080/",
          "height": 67
        }
      },
      "source": [
        "!ls"
      ],
      "execution_count": 0,
      "outputs": [
        {
          "output_type": "stream",
          "text": [
            "anscombe.json\t\t      mnist_test.csv\n",
            "california_housing_test.csv   mnist_train_small.csv\n",
            "california_housing_train.csv  README.md\n"
          ],
          "name": "stdout"
        }
      ]
    },
    {
      "cell_type": "code",
      "metadata": {
        "id": "AEdYjb1SmxcP",
        "colab_type": "code",
        "colab": {}
      },
      "source": [
        "!cd .."
      ],
      "execution_count": 0,
      "outputs": []
    },
    {
      "cell_type": "code",
      "metadata": {
        "id": "-1mlQRETpMRA",
        "colab_type": "code",
        "outputId": "a178f265-7f8e-4e39-974d-19a4e0db97ca",
        "colab": {
          "base_uri": "https://localhost:8080/",
          "height": 34
        }
      },
      "source": [
        "!pwd"
      ],
      "execution_count": 0,
      "outputs": [
        {
          "output_type": "stream",
          "text": [
            "/content/sample_data\n"
          ],
          "name": "stdout"
        }
      ]
    },
    {
      "cell_type": "code",
      "metadata": {
        "id": "XYCqORXepR68",
        "colab_type": "code",
        "outputId": "117f1a1d-33ac-47da-ac4b-f03e3babe60e",
        "colab": {
          "base_uri": "https://localhost:8080/",
          "height": 67
        }
      },
      "source": [
        "!ls"
      ],
      "execution_count": 0,
      "outputs": [
        {
          "output_type": "stream",
          "text": [
            "anscombe.json\t\t      mnist_test.csv\n",
            "california_housing_test.csv   mnist_train_small.csv\n",
            "california_housing_train.csv  README.md\n"
          ],
          "name": "stdout"
        }
      ]
    },
    {
      "cell_type": "code",
      "metadata": {
        "id": "c5ggIXcbplJ3",
        "colab_type": "code",
        "colab": {}
      },
      "source": [
        "!cd /content"
      ],
      "execution_count": 0,
      "outputs": []
    },
    {
      "cell_type": "code",
      "metadata": {
        "id": "8hcpbwXCprml",
        "colab_type": "code",
        "outputId": "6258f6cd-aea9-42a3-fc24-499887836a01",
        "colab": {
          "base_uri": "https://localhost:8080/",
          "height": 34
        }
      },
      "source": [
        "!pwd"
      ],
      "execution_count": 0,
      "outputs": [
        {
          "output_type": "stream",
          "text": [
            "/content/sample_data\n"
          ],
          "name": "stdout"
        }
      ]
    },
    {
      "cell_type": "code",
      "metadata": {
        "id": "4B6AW6iwpuav",
        "colab_type": "code",
        "outputId": "97e67f20-c5f8-463f-9c4f-5e94fd601347",
        "colab": {
          "base_uri": "https://localhost:8080/",
          "height": 34
        }
      },
      "source": [
        "cd .."
      ],
      "execution_count": 0,
      "outputs": [
        {
          "output_type": "stream",
          "text": [
            "/content\n"
          ],
          "name": "stdout"
        }
      ]
    },
    {
      "cell_type": "code",
      "metadata": {
        "id": "POX9jPZbqfdS",
        "colab_type": "code",
        "colab": {}
      },
      "source": [
        "!git clone https://github.com/anujshah1003/own_data_cnn_implementation_keras.git"
      ],
      "execution_count": 0,
      "outputs": []
    },
    {
      "cell_type": "code",
      "metadata": {
        "id": "YUN-Yh-WqjJy",
        "colab_type": "code",
        "outputId": "7cada171-99f2-471a-b9c7-e9af68405d98",
        "colab": {
          "base_uri": "https://localhost:8080/",
          "height": 34
        }
      },
      "source": [
        "pwd"
      ],
      "execution_count": 0,
      "outputs": [
        {
          "output_type": "execute_result",
          "data": {
            "text/plain": [
              "'/content'"
            ]
          },
          "metadata": {
            "tags": []
          },
          "execution_count": 16
        }
      ]
    },
    {
      "cell_type": "code",
      "metadata": {
        "id": "Y_azRFxqqxsW",
        "colab_type": "code",
        "outputId": "9e0d40ba-d77a-4c79-b39f-34b99cffda67",
        "colab": {
          "base_uri": "https://localhost:8080/",
          "height": 34
        }
      },
      "source": [
        "cd /content/own_data_cnn_implementation_keras/"
      ],
      "execution_count": 0,
      "outputs": [
        {
          "output_type": "stream",
          "text": [
            "/content/own_data_cnn_implementation_keras\n"
          ],
          "name": "stdout"
        }
      ]
    },
    {
      "cell_type": "code",
      "metadata": {
        "id": "sq0oO_ENq2UB",
        "colab_type": "code",
        "outputId": "e39b8f67-62f8-44da-8f62-900578cfeaa6",
        "colab": {
          "base_uri": "https://localhost:8080/",
          "height": 34
        }
      },
      "source": [
        "pwd"
      ],
      "execution_count": 0,
      "outputs": [
        {
          "output_type": "execute_result",
          "data": {
            "text/plain": [
              "'/content/own_data_cnn_implementation_keras'"
            ]
          },
          "metadata": {
            "tags": []
          },
          "execution_count": 18
        }
      ]
    },
    {
      "cell_type": "code",
      "metadata": {
        "id": "6e5R4Ht2q3kl",
        "colab_type": "code",
        "outputId": "48e3d192-ecd3-4510-98b1-344ccc57debf",
        "colab": {
          "base_uri": "https://localhost:8080/",
          "height": 50
        }
      },
      "source": [
        "!ls"
      ],
      "execution_count": 0,
      "outputs": [
        {
          "output_type": "stream",
          "text": [
            "_config.yml\t    data.zip   updated_custom_data_cnn.py\n",
            "custom_data_cnn.py  README.md\n"
          ],
          "name": "stdout"
        }
      ]
    },
    {
      "cell_type": "code",
      "metadata": {
        "id": "_wqOCdzwq44A",
        "colab_type": "code",
        "colab": {}
      },
      "source": [
        "!rm -rf custom_data_cnn.py updated_custom_data_cnn.py README.md _config.yml"
      ],
      "execution_count": 0,
      "outputs": []
    },
    {
      "cell_type": "code",
      "metadata": {
        "id": "4_QYBrSjrFD3",
        "colab_type": "code",
        "outputId": "a5c40f3e-738f-4366-a22c-790e5df4e284",
        "colab": {
          "base_uri": "https://localhost:8080/",
          "height": 34
        }
      },
      "source": [
        "!ls"
      ],
      "execution_count": 0,
      "outputs": [
        {
          "output_type": "stream",
          "text": [
            "data.zip\n"
          ],
          "name": "stdout"
        }
      ]
    },
    {
      "cell_type": "code",
      "metadata": {
        "id": "YgpdfBr-rIcP",
        "colab_type": "code",
        "outputId": "1e11b865-7a4d-48d3-cc46-0506cfcfba30",
        "colab": {
          "base_uri": "https://localhost:8080/",
          "height": 50
        }
      },
      "source": [
        "from zipfile import ZipFile\n",
        "file_name=\"data.zip\"\n",
        "with ZipFile(file_name, 'r') as zip:\n",
        "  print('Extracting the file now ...')\n",
        "  zip.extractall()\n",
        "  print(\"Done\")"
      ],
      "execution_count": 0,
      "outputs": [
        {
          "output_type": "stream",
          "text": [
            "Extracting the file now ...\n",
            "Done\n"
          ],
          "name": "stdout"
        }
      ]
    },
    {
      "cell_type": "code",
      "metadata": {
        "id": "uwckOQ5yrsF6",
        "colab_type": "code",
        "outputId": "e787fb80-5ec1-4cfb-eb36-6640913268d1",
        "colab": {
          "base_uri": "https://localhost:8080/",
          "height": 34
        }
      },
      "source": [
        "!ls"
      ],
      "execution_count": 0,
      "outputs": [
        {
          "output_type": "stream",
          "text": [
            "data  data.zip\n"
          ],
          "name": "stdout"
        }
      ]
    },
    {
      "cell_type": "code",
      "metadata": {
        "id": "nxdxizZaruC5",
        "colab_type": "code",
        "colab": {}
      },
      "source": [
        "!rm -rf data.zip"
      ],
      "execution_count": 0,
      "outputs": []
    },
    {
      "cell_type": "code",
      "metadata": {
        "id": "Kbr9yANKrwvy",
        "colab_type": "code",
        "outputId": "33ed1036-5fb4-452f-c30d-e2018d651b17",
        "colab": {
          "base_uri": "https://localhost:8080/",
          "height": 34
        }
      },
      "source": [
        "cd data/"
      ],
      "execution_count": 0,
      "outputs": [
        {
          "output_type": "stream",
          "text": [
            "/content/own_data_cnn_implementation_keras/data\n"
          ],
          "name": "stdout"
        }
      ]
    },
    {
      "cell_type": "code",
      "metadata": {
        "id": "wsDczRiBr7Vi",
        "colab_type": "code",
        "outputId": "229ac956-952d-4f37-e161-9bec2f2e65a7",
        "colab": {
          "base_uri": "https://localhost:8080/",
          "height": 34
        }
      },
      "source": [
        "!ls"
      ],
      "execution_count": 0,
      "outputs": [
        {
          "output_type": "stream",
          "text": [
            "cats  dogs  horses  humans\n"
          ],
          "name": "stdout"
        }
      ]
    },
    {
      "cell_type": "code",
      "metadata": {
        "id": "t-gaxoTJr9Kq",
        "colab_type": "code",
        "outputId": "2f342c4d-85f2-45f8-978e-ef380a88a0b5",
        "colab": {
          "base_uri": "https://localhost:8080/",
          "height": 34
        }
      },
      "source": [
        "cd cats/"
      ],
      "execution_count": 0,
      "outputs": [
        {
          "output_type": "stream",
          "text": [
            "/content/own_data_cnn_implementation_keras/data/cats\n"
          ],
          "name": "stdout"
        }
      ]
    },
    {
      "cell_type": "code",
      "metadata": {
        "id": "zZlQrokzr_ei",
        "colab_type": "code",
        "outputId": "c0e281fe-1e77-4786-91be-a3a0cb1cf246",
        "colab": {
          "base_uri": "https://localhost:8080/",
          "height": 34
        }
      },
      "source": [
        "!ls"
      ],
      "execution_count": 0,
      "outputs": [
        {
          "output_type": "stream",
          "text": [
            "sample_data\n"
          ],
          "name": "stdout"
        }
      ]
    },
    {
      "cell_type": "code",
      "metadata": {
        "id": "foIqo2E7sEg1",
        "colab_type": "code",
        "colab": {}
      },
      "source": [
        "import numpy as np\n",
        "import matplotlib.pyplot as plt\n",
        "import tensorflow.compat.v1 as tf\n",
        "tf.disable_v2_behavior()"
      ],
      "execution_count": 0,
      "outputs": []
    },
    {
      "cell_type": "code",
      "metadata": {
        "id": "epJ-AZ8BsHhE",
        "colab_type": "code",
        "colab": {}
      },
      "source": [
        "learning_parameter = 0.01\n",
        "epochs=300\n",
        "samples=50\n",
        "x_train=np.linspace(0,20,samples)\n",
        "y_train=6*x_train+7*np.random.randn(samples)"
      ],
      "execution_count": 0,
      "outputs": []
    },
    {
      "cell_type": "code",
      "metadata": {
        "id": "lQdZBUOWsjc5",
        "colab_type": "code",
        "colab": {
          "base_uri": "https://localhost:8080/",
          "height": 265
        },
        "outputId": "ad1bf613-b564-4bde-b6fb-a842c20d2812"
      },
      "source": [
        "plt.plot(x_train,y_train,'x')\n",
        "plt.plot(x_train,6*x_train)\n",
        "plt.show()"
      ],
      "execution_count": 10,
      "outputs": [
        {
          "output_type": "display_data",
          "data": {
            "image/png": "[encoded data removed]",
            "text/plain": [
              "<Figure size 432x288 with 1 Axes>"
            ]
          },
          "metadata": {
            "tags": []
          }
        }
      ]
    },
    {
      "cell_type": "code",
      "metadata": {
        "id": "OFhKYg5qsq-J",
        "colab_type": "code",
        "colab": {}
      },
      "source": [
        "Y=tf.placeholder(tf.float32)\n",
        "X=tf.placeholder(tf.float32)\n",
        "W=tf.Variable(np.random.randn(), name='Weights')\n",
        "B=tf.Variable(np.random.randn(), name='Bias')"
      ],
      "execution_count": 0,
      "outputs": []
    },
    {
      "cell_type": "code",
      "metadata": {
        "id": "9FHB10urtlN1",
        "colab_type": "code",
        "colab": {}
      },
      "source": [
        "pred=X*W+B\n",
        "cost=tf.reduce_sum((pred-Y)**2/(2*samples))\n",
        "optimizer=tf.train.GradientDescentOptimizer(learning_parameter).minimize(cost)\n",
        "init=tf.global_variables_initializer()"
      ],
      "execution_count": 0,
      "outputs": []
    },
    {
      "cell_type": "code",
      "metadata": {
        "id": "_xDa4mm3tl8J",
        "colab_type": "code",
        "colab": {
          "base_uri": "https://localhost:8080/",
          "height": 170
        },
        "outputId": "61714060-79bd-4620-b3da-bfcebbcac011"
      },
      "source": [
        "with tf.Session() as sess:\n",
        "  sess.run(init)\n",
        "  for epoch in range (epochs):\n",
        "    for x,y in zip(x_train,y_train):\n",
        "      sess.run(optimizer, feed_dict={X:x,Y:y})\n",
        "    if not epoch % 40:\n",
        "      W1=sess.run(W)\n",
        "      B1=sess.run(B)\n",
        "      cost_iter=sess.run(cost, feed_dict={X:x,Y:y})\n",
        "      print('Epoch %f Cost %f Weight %f Bias %f' %(epoch, cost_iter, W1,B1))\n",
        "  Weight=sess.run(W)\n",
        "  Bias=sess.run(B)"
      ],
      "execution_count": 16,
      "outputs": [
        {
          "output_type": "stream",
          "text": [
            "ERROR! Session/line number was not unique in database. History logging moved to new session 63\n",
            "Epoch 0.000000 Cost 8.730209 Weight 4.284540 Bias 0.062668\n",
            "Epoch 40.000000 Cost 0.259426 Weight 6.003262 Bias 0.328549\n",
            "Epoch 80.000000 Cost 0.256127 Weight 5.996282 Bias 0.435667\n",
            "Epoch 120.000000 Cost 0.253166 Weight 5.989978 Bias 0.532400\n",
            "Epoch 160.000000 Cost 0.250505 Weight 5.984285 Bias 0.619754\n",
            "Epoch 200.000000 Cost 0.248117 Weight 5.979145 Bias 0.698638\n",
            "Epoch 240.000000 Cost 0.245967 Weight 5.974502 Bias 0.769878\n",
            "Epoch 280.000000 Cost 0.244036 Weight 5.970310 Bias 0.834209\n"
          ],
          "name": "stdout"
        }
      ]
    },
    {
      "cell_type": "code",
      "metadata": {
        "id": "NLY1pYlhvTFt",
        "colab_type": "code",
        "colab": {
          "base_uri": "https://localhost:8080/",
          "height": 265
        },
        "outputId": "53c4a92e-11eb-46f9-e445-b7e8913d6dd2"
      },
      "source": [
        "plt.plot(x_train,y_train,'o')\n",
        "plt.plot(x_train, Weight*x_train+Bias)\n",
        "plt.show()"
      ],
      "execution_count": 19,
      "outputs": [
        {
          "output_type": "display_data",
          "data": {
            "image/png": "[encoded data removed]",
            "text/plain": [
              "<Figure size 432x288 with 1 Axes>"
            ]
          },
          "metadata": {
            "tags": []
          }
        }
      ]
    },
    {
      "cell_type": "code",
      "metadata": {
        "id": "X9E1ouOLw90i",
        "colab_type": "code",
        "colab": {
          "base_uri": "https://localhost:8080/",
          "height": 532
        },
        "outputId": "3f475bdf-9e94-4e80-9eaf-e8a635c96883"
      },
      "source": [
        "learning_parameter = 0.01\n",
        "epochs=300\n",
        "samples=50\n",
        "x_train=np.linspace(0,20,samples)\n",
        "y_train=6*x_train+7*np.random.randn(samples)\n",
        "plt.plot(x_train,y_train,'x')\n",
        "plt.plot(x_train,6*x_train)\n",
        "plt.show()\n",
        "Y=tf.placeholder(tf.float32)\n",
        "X=tf.placeholder(tf.float32)\n",
        "W=tf.Variable(np.random.randn(), name='Weights')\n",
        "B=tf.Variable(np.random.randn(), name='Bias')\n",
        "pred=X*W+B\n",
        "cost=tf.reduce_sum((pred-Y)**2/(2*samples))\n",
        "optimizer=tf.train.GradientDescentOptimizer(learning_parameter).minimize(cost)\n",
        "init=tf.global_variables_initializer()\n",
        "with tf.Session() as sess:\n",
        "  sess.run(init)\n",
        "  for epoch in range (epochs):\n",
        "    for x,y in zip(x_train,y_train):\n",
        "      sess.run(optimizer, feed_dict={X:x,Y:y})\n",
        "    if not epoch % 40:\n",
        "      W1=sess.run(W)\n",
        "      B1=sess.run(B)\n",
        "      cost_iter=sess.run(cost, feed_dict={X:x,Y:y})\n",
        "      print('Epoch %f Cost %f Weight %f Bias %f' %(epoch, cost_iter, W1,B1))\n",
        "  Weight=sess.run(W)\n",
        "  Bias=sess.run(B)\n",
        "  plt.plot(x_train,y_train,'o')\n",
        "plt.plot(x_train, Weight*x_train+Bias)\n",
        "plt.show()"
      ],
      "execution_count": 24,
      "outputs": [
        {
          "output_type": "display_data",
          "data": {
            "image/png": "[encoded data removed]",
            "text/plain": [
              "<Figure size 432x288 with 1 Axes>"
            ]
          },
          "metadata": {
            "tags": []
          }
        },
        {
          "output_type": "stream",
          "text": [
            "Epoch 0.000000 Cost 0.825817 Weight 4.441203 Bias -0.530635\n"
          ],
          "name": "stdout"
        },
        {
          "output_type": "display_data",
          "data": {
            "image/png": "[encoded data removed]",
            "text/plain": [
              "<Figure size 432x288 with 1 Axes>"
            ]
          },
          "metadata": {
            "tags": []
          }
        }
      ]
    },
    {
      "cell_type": "code",
      "metadata": {
        "id": "uSNVAVyOyVzT",
        "colab_type": "code",
        "colab": {}
      },
      "source": [
        ""
      ],
      "execution_count": 0,
      "outputs": []
    }
  ]
}