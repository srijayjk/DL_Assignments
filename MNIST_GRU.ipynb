{
  "nbformat": 4,
  "nbformat_minor": 0,
  "metadata": {
    "colab": {
      "name": "MNIST_GRU.ipynb",
      "provenance": [],
      "collapsed_sections": [],
      "authorship_tag": "ABX9TyPzYdmSatL6WbfQNszt+QKS",
      "include_colab_link": true
    },
    "kernelspec": {
      "name": "python3",
      "display_name": "Python 3"
    },
    "accelerator": "GPU"
  },
  "cells": [
    {
      "cell_type": "markdown",
      "metadata": {
        "id": "view-in-github",
        "colab_type": "text"
      },
      "source": [
        "<a href=\"https://colab.research.google.com/github/srijayjk/Deep-Learning/blob/master/MNIST_GRU.ipynb\" target=\"_parent\"><img src=\"https://colab.research.google.com/assets/colab-badge.svg\" alt=\"Open In Colab\"/></a>"
      ]
    },
    {
      "cell_type": "code",
      "metadata": {
        "id": "XR0mJvK42GuA"
      },
      "source": [
        "import tensorflow as tf\n",
        "from tensorflow import keras\n",
        "from tensorflow.keras import layers\n",
        "from tensorflow.keras.datasets import mnist"
      ],
      "execution_count": 17,
      "outputs": []
    },
    {
      "cell_type": "code",
      "metadata": {
        "id": "_JRZvevW2qmL"
      },
      "source": [
        "(x_train, y_train), (x_test, y_test) = mnist.load_data()\n",
        "x_train = x_train.astype(\"float32\") / 255.0\n",
        "x_test = x_test.astype(\"float32\") / 255.0\n"
      ],
      "execution_count": 18,
      "outputs": []
    },
    {
      "cell_type": "code",
      "metadata": {
        "colab": {
          "base_uri": "https://localhost:8080/"
        },
        "id": "WJcSvnI53QsF",
        "outputId": "345623bb-1024-436a-c682-4b3e90a4feab"
      },
      "source": [
        "model = keras.Sequential()\n",
        "model.add(keras.layers.GRU(100, input_shape=(None, 28), activation='tanh', return_sequences=True))\n",
        "model.add(keras.layers.Dropout(0.5))\n",
        "model.add(keras.layers.GRU(100, activation='tanh'))\n",
        "model.add(keras.layers.Dropout(0.5))\n",
        "model.add(keras.layers.Dense(100, activation='tanh'))\n",
        "model.add(keras.layers.Dense(10, activation='sigmoid'))\n",
        "model.summary()"
      ],
      "execution_count": 19,
      "outputs": [
        {
          "output_type": "stream",
          "text": [
            "Model: \"sequential_4\"\n",
            "_________________________________________________________________\n",
            "Layer (type)                 Output Shape              Param #   \n",
            "=================================================================\n",
            "gru (GRU)                    (None, None, 100)         39000     \n",
            "_________________________________________________________________\n",
            "dropout_8 (Dropout)          (None, None, 100)         0         \n",
            "_________________________________________________________________\n",
            "gru_1 (GRU)                  (None, 100)               60600     \n",
            "_________________________________________________________________\n",
            "dropout_9 (Dropout)          (None, 100)               0         \n",
            "_________________________________________________________________\n",
            "dense_8 (Dense)              (None, 100)               10100     \n",
            "_________________________________________________________________\n",
            "dense_9 (Dense)              (None, 10)                1010      \n",
            "=================================================================\n",
            "Total params: 110,710\n",
            "Trainable params: 110,710\n",
            "Non-trainable params: 0\n",
            "_________________________________________________________________\n"
          ],
          "name": "stdout"
        }
      ]
    },
    {
      "cell_type": "code",
      "metadata": {
        "colab": {
          "base_uri": "https://localhost:8080/"
        },
        "id": "q0DHpaR1504p",
        "outputId": "480cbbdb-5512-4975-ea81-c177036ffcfe"
      },
      "source": [
        "model.compile(optimizer='adam', loss='SparseCategoricalCrossentropy', metrics=['accuracy'])\n",
        "model.fit(x_train, y_train, batch_size=128, epochs=5, validation_data=(x_test, y_test))"
      ],
      "execution_count": 20,
      "outputs": [
        {
          "output_type": "stream",
          "text": [
            "Epoch 1/5\n",
            "469/469 [==============================] - 4s 8ms/step - loss: 0.7552 - accuracy: 0.7545 - val_loss: 0.1825 - val_accuracy: 0.9480\n",
            "Epoch 2/5\n",
            "469/469 [==============================] - 3s 7ms/step - loss: 0.1836 - accuracy: 0.9485 - val_loss: 0.1030 - val_accuracy: 0.9718\n",
            "Epoch 3/5\n",
            "469/469 [==============================] - 3s 7ms/step - loss: 0.1195 - accuracy: 0.9667 - val_loss: 0.0699 - val_accuracy: 0.9798\n",
            "Epoch 4/5\n",
            "469/469 [==============================] - 3s 7ms/step - loss: 0.0910 - accuracy: 0.9752 - val_loss: 0.0606 - val_accuracy: 0.9829\n",
            "Epoch 5/5\n",
            "469/469 [==============================] - 3s 7ms/step - loss: 0.0753 - accuracy: 0.9791 - val_loss: 0.0478 - val_accuracy: 0.9873\n"
          ],
          "name": "stdout"
        },
        {
          "output_type": "execute_result",
          "data": {
            "text/plain": [
              "<tensorflow.python.keras.callbacks.History at 0x7f6d6782dc50>"
            ]
          },
          "metadata": {
            "tags": []
          },
          "execution_count": 20
        }
      ]
    }
  ]
}