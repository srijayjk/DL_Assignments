{
  "nbformat": 4,
  "nbformat_minor": 0,
  "metadata": {
    "colab": {
      "name": "Visualization Of Liner Regression Using Tensor Board.ipynb",
      "provenance": [],
      "toc_visible": true,
      "authorship_tag": "ABX9TyM3dBXyJjnq9usv+1WV4qVV",
      "include_colab_link": true
    },
    "kernelspec": {
      "name": "python3",
      "display_name": "Python 3"
    }
  },
  "cells": [
    {
      "cell_type": "markdown",
      "metadata": {
        "id": "view-in-github",
        "colab_type": "text"
      },
      "source": [
        "<a href=\"https://colab.research.google.com/github/lezya/Deep-Learning/blob/master/Visualization_Of_Liner_Regression_Using_Tensor_Board.ipynb\" target=\"_parent\"><img src=\"https://colab.research.google.com/assets/colab-badge.svg\" alt=\"Open In Colab\"/></a>"
      ]
    },
    {
      "cell_type": "code",
      "metadata": {
        "id": "OC9kxqgG5RSO",
        "colab_type": "code",
        "outputId": "d967ce80-109d-4529-f01f-12f57c89f988",
        "colab": {
          "base_uri": "https://localhost:8080/",
          "height": 836
        }
      },
      "source": [
        "import numpy as np\n",
        "import matplotlib.pyplot as plt\n",
        "import tensorflow.compat.v1 as tf\n",
        "tf.disable_v2_behavior()\n",
        "\n",
        "learning_parameter = 0.01\n",
        "epochs=300\n",
        "samples=50\n",
        "x_train=np.linspace(0,20,samples)\n",
        "y_train=6*x_train+7*np.random.randn(samples)\n",
        "plt.plot(x_train,y_train,'x')\n",
        "plt.plot(x_train,6*x_train)\n",
        "plt.show()\n",
        "Y=tf.placeholder(tf.float32)\n",
        "X=tf.placeholder(tf.float32)\n",
        "W=tf.Variable(np.random.randn(), name='Weights')\n",
        "B=tf.Variable(np.random.randn(), name='Bias')\n",
        "#Create the Model for regression\n",
        "with tf.name_scope(\"Model\") as scope:\n",
        "  pred=X*W+B\n",
        "\n",
        "#Add a summary to study behaviour of weights and biases with epochs\n",
        "weight_histogram = tf.summary.histogram(\"Weights\", W)\n",
        "Bias_histogram = tf.summary.histogram(\"Bias\", B)\n",
        "\n",
        "#Cost Function\n",
        "with tf.name_scope(\"cost_function\") as scope:\n",
        "  cost_iteration=tf.reduce_sum((pred-Y)**2/(2*samples))\n",
        "\n",
        "#Record Cost Function Summary\n",
        "cost_summary=tf.summary.scalar(\"Cost\", cost_iteration)\n",
        "\n",
        "#Define Optimizer\n",
        "with tf.name_scope(\"Training\") as scope:\n",
        "  optimizer=tf.train.GradientDescentOptimizer(learning_parameter).minimize(cost_iteration)\n",
        "\n",
        "#Initialize Variables\n",
        "init=tf.global_variables_initializer() \n",
        "\n",
        "#merge all the summaries\n",
        "merged_summary=tf.summary.merge_all()\n",
        "\n",
        "#Define Tensorflow session\n",
        "with tf.Session() as sess:\n",
        "  sess.run(init)\n",
        "  #Store all the files in Log folder\n",
        "  writer = tf.summary.FileWriter('./log', sess.graph)\n",
        "  for epoch in range (epochs):\n",
        "    for x,y in zip(x_train,y_train):\n",
        "      sess.run(optimizer, feed_dict={X:x,Y:y})\n",
        "      #write logs to each epochs\n",
        "      summary_epochs=sess.run(merged_summary, feed_dict={X:x,Y:y})\n",
        "      writer.add_summary(summary_epochs,epoch)\n",
        "    if not epoch % 40:\n",
        "      W1=sess.run(W)\n",
        "      B1=sess.run(B)\n",
        "      cost_iter=sess.run(cost_iteration, feed_dict={X:x,Y:y})\n",
        "      print('Epoch %f Cost %f Weight %f Bias %f' %(epoch, cost_iter, W1,B1))\n",
        "  Weight=sess.run(W)\n",
        "  Bias=sess.run(B)\n",
        "plt.plot(x_train,y_train,'o')\n",
        "plt.plot(x_train, Weight*x_train+Bias)\n",
        "plt.show()"
      ],
      "execution_count": 7,
      "outputs": [
        {
          "output_type": "display_data",
          "data": {
            "text/html": [
              "<p style=\"color: red;\">\n",
              "The default version of TensorFlow in Colab will switch to TensorFlow 2.x on the 27th of March, 2020.<br>\n",
              "We recommend you <a href=\"https://www.tensorflow.org/guide/migrate\" target=\"_blank\">upgrade</a> now\n",
              "or ensure your notebook will continue to use TensorFlow 1.x via the <code>%tensorflow_version 1.x</code> magic:\n",
              "<a href=\"https://colab.research.google.com/notebooks/tensorflow_version.ipynb\" target=\"_blank\">more info</a>.</p>\n"
            ],
            "text/plain": [
              "<IPython.core.display.HTML object>"
            ]
          },
          "metadata": {
            "tags": []
          }
        },
        {
          "output_type": "stream",
          "text": [
            "WARNING:tensorflow:From /tensorflow-1.15.0/python3.6/tensorflow_core/python/compat/v2_compat.py:68: disable_resource_variables (from tensorflow.python.ops.variable_scope) is deprecated and will be removed in a future version.\n",
            "Instructions for updating:\n",
            "non-resource variables are not supported in the long term\n"
          ],
          "name": "stdout"
        },
        {
          "output_type": "display_data",
          "data": {
            "image/png": "[encoded data removed]",
            "text/plain": [
              "<Figure size 432x288 with 1 Axes>"
            ]
          },
          "metadata": {
            "tags": []
          }
        },
        {
          "output_type": "stream",
          "text": [
            "WARNING:tensorflow:From /tensorflow-1.15.0/python3.6/tensorflow_core/python/ops/math_grad.py:1375: where (from tensorflow.python.ops.array_ops) is deprecated and will be removed in a future version.\n",
            "Instructions for updating:\n",
            "Use tf.where in 2.0, which has the same broadcast rule as np.where\n",
            "Epoch 0.000000 Cost 3.238753 Weight 4.657053 Bias 1.510394\n",
            "Epoch 40.000000 Cost 0.320568 Weight 5.826798 Bias 1.773902\n",
            "Epoch 80.000000 Cost 0.315539 Weight 5.817216 Bias 1.920941\n",
            "Epoch 120.000000 Cost 0.311029 Weight 5.808563 Bias 2.053724\n",
            "Epoch 160.000000 Cost 0.306985 Weight 5.800748 Bias 2.173638\n",
            "Epoch 200.000000 Cost 0.303355 Weight 5.793692 Bias 2.281924\n",
            "Epoch 240.000000 Cost 0.300097 Weight 5.787319 Bias 2.379711\n",
            "Epoch 280.000000 Cost 0.297169 Weight 5.781564 Bias 2.468023\n"
          ],
          "name": "stdout"
        },
        {
          "output_type": "display_data",
          "data": {
            "image/png": "[encoded data removed]",
            "text/plain": [
              "<Figure size 432x288 with 1 Axes>"
            ]
          },
          "metadata": {
            "tags": []
          }
        }
      ]
    },
    {
      "cell_type": "code",
      "metadata": {
        "id": "gLjIpzCotlv5",
        "colab_type": "code",
        "colab": {
          "base_uri": "https://localhost:8080/",
          "height": 226
        },
        "outputId": "f5c62630-8ca9-4d13-a0bd-f880fcc9a5b5"
      },
      "source": [
        "#Command to interactively use Tensorboard\n",
        "!wget https://bin.equinox.io/c/4VmDzA7iaHb/ngrok-stable-linux-amd64.zip"
      ],
      "execution_count": 2,
      "outputs": [
        {
          "output_type": "stream",
          "text": [
            "--2020-03-25 17:23:55--  https://bin.equinox.io/c/4VmDzA7iaHb/ngrok-stable-linux-amd64.zip\n",
            "Resolving bin.equinox.io (bin.equinox.io)... 52.5.68.140, 52.7.241.210, 34.231.69.169, ...\n",
            "Connecting to bin.equinox.io (bin.equinox.io)|52.5.68.140|:443... connected.\n",
            "HTTP request sent, awaiting response... 200 OK\n",
            "Length: 13773305 (13M) [application/octet-stream]\n",
            "Saving to: ‘ngrok-stable-linux-amd64.zip’\n",
            "\n",
            "\r          ngrok-sta   0%[                    ]       0  --.-KB/s               \r         ngrok-stab  93%[=================>  ]  12.30M  60.4MB/s               \rngrok-stable-linux- 100%[===================>]  13.13M  63.4MB/s    in 0.2s    \n",
            "\n",
            "2020-03-25 17:23:55 (63.4 MB/s) - ‘ngrok-stable-linux-amd64.zip’ saved [13773305/13773305]\n",
            "\n"
          ],
          "name": "stdout"
        }
      ]
    },
    {
      "cell_type": "code",
      "metadata": {
        "id": "I0BnME1OuZYa",
        "colab_type": "code",
        "colab": {}
      },
      "source": [
        "LOG_DIR = './log'\n",
        "get_ipython().system_raw(\n",
        "    'tensorboard --logdir {} --host 0.0.0.0 --port 6006 &'\n",
        "    .format(LOG_DIR)\n",
        ")"
      ],
      "execution_count": 0,
      "outputs": []
    },
    {
      "cell_type": "code",
      "metadata": {
        "id": "ESDmdDnxuU5W",
        "colab_type": "code",
        "colab": {
          "base_uri": "https://localhost:8080/",
          "height": 51
        },
        "outputId": "f375e9a5-3da7-47b1-ee94-4a22cc537192"
      },
      "source": [
        "!unzip ngrok-stable-linux-amd64.zip"
      ],
      "execution_count": 3,
      "outputs": [
        {
          "output_type": "stream",
          "text": [
            "Archive:  ngrok-stable-linux-amd64.zip\n",
            "  inflating: ngrok                   \n"
          ],
          "name": "stdout"
        }
      ]
    },
    {
      "cell_type": "code",
      "metadata": {
        "id": "brC1uzU8ue3B",
        "colab_type": "code",
        "colab": {}
      },
      "source": [
        "get_ipython().system_raw('./ngrok http 6006 &')"
      ],
      "execution_count": 0,
      "outputs": []
    },
    {
      "cell_type": "code",
      "metadata": {
        "id": "2a8FEqc_ujQs",
        "colab_type": "code",
        "colab": {
          "base_uri": "https://localhost:8080/",
          "height": 34
        },
        "outputId": "b3eeb159-5755-4212-b91c-76d2edb5ecab"
      },
      "source": [
        "! curl -s http://localhost:4040/api/tunnels | python3 -c \\\n",
        "    \"import sys, json; print(json.load(sys.stdin)['tunnels'][0]['public_url'])\""
      ],
      "execution_count": 6,
      "outputs": [
        {
          "output_type": "stream",
          "text": [
            "http://2265dc1b.ngrok.io\n"
          ],
          "name": "stdout"
        }
      ]
    }
  ]
}