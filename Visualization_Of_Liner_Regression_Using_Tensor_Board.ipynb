{
  "nbformat": 4,
  "nbformat_minor": 0,
  "metadata": {
    "colab": {
      "name": "Visualization Of Liner Regression Using Tensor Board.ipynb",
      "provenance": [],
      "authorship_tag": "ABX9TyP+qY6JM7U2Bxo2BMqxsy7q",
      "include_colab_link": true
    },
    "kernelspec": {
      "name": "python3",
      "display_name": "Python 3"
    }
  },
  "cells": [
    {
      "cell_type": "markdown",
      "metadata": {
        "id": "view-in-github",
        "colab_type": "text"
      },
      "source": [
        "<a href=\"https://colab.research.google.com/github/lezya/Deep-Learning/blob/master/Visualization_Of_Liner_Regression_Using_Tensor_Board.ipynb\" target=\"_parent\"><img src=\"https://colab.research.google.com/assets/colab-badge.svg\" alt=\"Open In Colab\"/></a>"
      ]
    },
    {
      "cell_type": "code",
      "metadata": {
        "id": "OC9kxqgG5RSO",
        "colab_type": "code",
        "colab": {}
      },
      "source": [
        "import numpy as np\n",
        "import matplotlib.pyplot as plt\n",
        "import tensorflow.compat.v1 as tf\n",
        "tf.disable_v2_behavior()\n",
        "\n",
        "learning_parameter = 0.01\n",
        "epochs=300\n",
        "samples=50\n",
        "x_train=np.linspace(0,20,samples)\n",
        "y_train=6*x_train+7*np.random.randn(samples)\n",
        "plt.plot(x_train,y_train,'x')\n",
        "plt.plot(x_train,6*x_train)\n",
        "plt.show()\n",
        "Y=tf.placeholder(tf.float32)\n",
        "X=tf.placeholder(tf.float32)\n",
        "W=tf.Variable(np.random.randn(), name='Weights')\n",
        "B=tf.Variable(np.random.randn(), name='Bias')\n",
        "#Create the Model for regression\n",
        "with tf.name_scope(\"Model\") as scope:\n",
        "  pred=X*W+B\n",
        "\n",
        "#Add a summary to study behaviour of weights and biases with epochs\n",
        "weight_histogram = tf.summary.histogram(\"Weights\", W)\n",
        "Bias_histogram = tf.summary.histogram(\"Bias\", B)\n",
        "\n",
        "#Cost Function\n",
        "with tf.name_scope(\"cost_function\") as scope:\n",
        "  cost_iteration=tf.reduce_sum((pred-Y)**2/(2*samples))\n",
        "\n",
        "#Record Cost Function Summary\n",
        "cost_summary=tf.summary.scalar(\"Cost\", cost_iteration)\n",
        "\n",
        "#Define Optimizer\n",
        "with tf.name_scope(\"Training\") as scope:\n",
        "  optimizer=tf.train.GradientDescentOptimizer(learning_parameter).minimize(cost_iteration)\n",
        "\n",
        "#Initialize Variables\n",
        "init=tf.global_variables_initializer() \n",
        "\n",
        "#merge all the summaries\n",
        "merged_summary=tf.summary.merge_all()\n",
        "\n",
        "#Define Tensorflow session\n",
        "with tf.Session() as sess:\n",
        "  sess.run(init)\n",
        "  #Store all the files in Log folder\n",
        "  writer = tf.summary.FileWriter('./log', sess.graph)\n",
        "  for epoch in range (epochs):\n",
        "    for x,y in zip(x_train,y_train):\n",
        "      sess.run(optimizer, feed_dict={X:x,Y:y})\n",
        "      #write logs to each epochs\n",
        "      summary_epochs=sess.run(merged_summary, feed_dict={X:x,Y:y})\n",
        "      writer.add_summary(summary_epochs,epoch)\n",
        "    if not epoch % 40:\n",
        "      W1=sess.run(W)\n",
        "      B1=sess.run(B)\n",
        "      cost_iter=sess.run(cost_iteration, feed_dict={X:x,Y:y})\n",
        "      print('Epoch %f Cost %f Weight %f Bias %f' %(epoch, cost_iter, W1,B1))\n",
        "  Weight=sess.run(W)\n",
        "  Bias=sess.run(B)\n",
        "plt.plot(x_train,y_train,'o')\n",
        "plt.plot(x_train, Weight*x_train+Bias)\n",
        "plt.show()"
      ],
      "execution_count": 0,
      "outputs": []
    }
  ]
}